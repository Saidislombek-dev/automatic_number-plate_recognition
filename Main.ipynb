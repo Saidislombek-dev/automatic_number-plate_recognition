{
 "cells": [
  {
   "cell_type": "markdown",
   "id": "07c2b00a",
   "metadata": {},
   "source": [
    "# Import libraries"
   ]
  },
  {
   "cell_type": "code",
   "execution_count": 1,
   "id": "be634577",
   "metadata": {},
   "outputs": [],
   "source": [
    "# detection\n",
    "from ultralytics import YOLO\n",
    "\n",
    "# extracting text\n",
    "import easyocr\n",
    "\n",
    "# visuaziation\n",
    "from utils.plots import Annotator, colors\n",
    "from matplotlib import pyplot as plt\n",
    "import cv2\n",
    "\n",
    "# for clear predictions\n",
    "from IPython.display import clear_output"
   ]
  },
  {
   "cell_type": "markdown",
   "id": "9c2a70de",
   "metadata": {},
   "source": [
    "# Read models"
   ]
  },
  {
   "cell_type": "code",
   "execution_count": 2,
   "id": "65720e7d",
   "metadata": {},
   "outputs": [],
   "source": [
    "# yolov8 model for car, motorcycle, bus, truck detection\n",
    "modelc = YOLO(\"models/yolov8s.pt\")\n",
    "\n",
    "# trainde model for number-palette detection\n",
    "modeln = YOLO(\"models/num-pal.pt\")\n",
    "\n",
    "# extracting text from number-palette\n",
    "reader = easyocr.Reader(['en'])"
   ]
  },
  {
   "cell_type": "markdown",
   "id": "1fdf86dd",
   "metadata": {},
   "source": [
    "# Testing"
   ]
  },
  {
   "cell_type": "markdown",
   "id": "eda27760",
   "metadata": {},
   "source": [
    "### Testing image"
   ]
  },
  {
   "cell_type": "code",
   "execution_count": 3,
   "id": "60343c6c",
   "metadata": {},
   "outputs": [],
   "source": [
    "# read image\n",
    "img = cv2.imread('images/test0.jpg')\n",
    "\n",
    "for box in modelc(img)[0].boxes:   # detecting cars\n",
    "    \n",
    "    # if confidence>80% and [2,3,5,7] numbers is yolov8 detection class numbers\n",
    "    if box.conf>0.8 and box.cls.item() in [2,3,5,7]:\n",
    "        \n",
    "        # extracting cars\n",
    "        cx1,cy1,cx2,cy2 = box.xyxy[0]\n",
    "        img_car = img[int(cy1):int(cy2),int(cx1):int(cx2)]\n",
    "        \n",
    "        for boxn in modeln(img_car)[0].boxes:   # detecting number-palette\n",
    "            \n",
    "            x1,y1,x2,y2 = boxn.xyxy[0]\n",
    "            # drawing number-palette borders\n",
    "            \n",
    "            result = reader.readtext(img_car[int(y1):int(y2),int(x1):int(x2)])  # extracting text\n",
    "            \n",
    "            if result:\n",
    "                # draw border and put text\n",
    "                annotator = Annotator(img, line_width=3, example=str([result[0][-2]]))\n",
    "                annotator.box_label((int(x1+cx1),int(y1+cy1),int(x2+cx1),int(y2+cy1)), result[0][-2], color=colors(9, True))\n",
    "\n",
    "clear_output()\n",
    "cv2.imshow('ANPR', img)\n",
    "cv2.waitKey(0)\n",
    "cv2.destroyAllWindows()"
   ]
  },
  {
   "cell_type": "markdown",
   "id": "1daaffc3",
   "metadata": {},
   "source": [
    "### Testing video"
   ]
  },
  {
   "cell_type": "code",
   "execution_count": null,
   "id": "b69d27aa",
   "metadata": {},
   "outputs": [],
   "source": [
    "cap = cv2.VideoCapture('file_name.mp4')\n",
    "\n",
    "if (cap.isOpened()== False):\n",
    "    print(\"Error opening video file\")\n",
    "\n",
    "while(cap.isOpened()):\n",
    "    ret, img = cap.read()\n",
    "    if ret==True:\n",
    "        for box in modelc(img)[0].boxes:   # detecting cars\n",
    "\n",
    "            # if confidence>80% and [2,3,5,7] numbers is yolov8 detection class numbers\n",
    "            if box.conf>0.8 and box.cls.item() in [2,3,5,7]:\n",
    "        \n",
    "                # extracting cars\n",
    "                cx1,cy1,cx2,cy2 = box.xyxy[0]\n",
    "                img_car = img[int(cy1):int(cy2),int(cx1):int(cx2)]\n",
    "\n",
    "                for boxn in modeln(img_car)[0].boxes:   # detecting number-palette\n",
    "\n",
    "                    x1,y1,x2,y2 = boxn.xyxy[0]\n",
    "                    # drawing number-palette borders\n",
    "\n",
    "                    result = reader.readtext(img_car[int(y1):int(y2),int(x1):int(x2)])  # extracting text\n",
    "\n",
    "                    if result:\n",
    "                        # draw border and put text\n",
    "                        annotator = Annotator(img, line_width=3, example=str([result[0][-2]]))\n",
    "                        annotator.box_label((int(x1+cx1),int(y1+cy1),int(x2+cx1),int(y2+cy1)), result[0][-2], color=colors(9, True))\n",
    "        \n",
    "        cv2.imshow('Frame', img)\n",
    "          \n",
    "        if cv2.waitKey(25) & 0xFF == ord('q'):\n",
    "            break\n",
    "\n",
    "clear_output()\n",
    "cap.release()\n",
    "cv2.destroyAllWindows()"
   ]
  },
  {
   "cell_type": "code",
   "execution_count": null,
   "id": "b0c0a250",
   "metadata": {},
   "outputs": [],
   "source": []
  }
 ],
 "metadata": {
  "kernelspec": {
   "display_name": "Python 3 (ipykernel)",
   "language": "python",
   "name": "python3"
  },
  "language_info": {
   "codemirror_mode": {
    "name": "ipython",
    "version": 3
   },
   "file_extension": ".py",
   "mimetype": "text/x-python",
   "name": "python",
   "nbconvert_exporter": "python",
   "pygments_lexer": "ipython3",
   "version": "3.10.11"
  }
 },
 "nbformat": 4,
 "nbformat_minor": 5
}
